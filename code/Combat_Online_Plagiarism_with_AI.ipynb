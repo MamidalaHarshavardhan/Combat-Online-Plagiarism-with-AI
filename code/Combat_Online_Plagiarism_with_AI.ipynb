{
  "nbformat": 4,
  "nbformat_minor": 0,
  "metadata": {
    "colab": {
      "provenance": []
    },
    "kernelspec": {
      "name": "python3",
      "display_name": "Python 3"
    },
    "language_info": {
      "name": "python"
    }
  },
  "cells": [
    {
      "cell_type": "code",
      "execution_count": 13,
      "metadata": {
        "id": "wnBTwDVm3jEN"
      },
      "outputs": [],
      "source": [
        "from difflib import SequenceMatcher"
      ]
    },
    {
      "cell_type": "code",
      "source": [
        "with open(\"/content/fatma.txt\") as file1, open(\"/content/john.txt\") as file2, open(\"/content/juma.txt\") as file3:\n",
        "  file1data=file1.read()\n",
        "  file2data=file2.read()\n",
        "  file3data=file3.read()"
      ],
      "metadata": {
        "id": "_jSxTWvIW1al"
      },
      "execution_count": 14,
      "outputs": []
    },
    {
      "cell_type": "code",
      "source": [
        "similarity=SequenceMatcher(None,file1data,file2data).ratio()\n",
        "similarity1=SequenceMatcher(None,file1data,file3data).ratio()\n",
        "similarity2=SequenceMatcher(None,file2data,file3data).ratio()\n",
        "print(\"'fatma.txt'\",\"'join.txt'\",similarity*100)\n",
        "print(\"'fatma.txt'\",\"'juma.txt'\",similarity1*100)\n",
        "print(\"'john.txt'\",\"'juma.txt'\",similarity*100)\n"
      ],
      "metadata": {
        "colab": {
          "base_uri": "https://localhost:8080/"
        },
        "id": "Co35EdYLXfaO",
        "outputId": "08e8f17e-5045-4701-b45f-98dfc405dcbd"
      },
      "execution_count": 19,
      "outputs": [
        {
          "output_type": "stream",
          "name": "stdout",
          "text": [
            "'fatma.txt' 'join.txt' 45.614035087719294\n",
            "'fatma.txt' 'juma.txt' 12.82051282051282\n",
            "'john.txt' 'juma.txt' 45.614035087719294\n"
          ]
        }
      ]
    }
  ]
}